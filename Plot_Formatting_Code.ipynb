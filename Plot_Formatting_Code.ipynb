{
 "cells": [
  {
   "cell_type": "code",
   "execution_count": null,
   "metadata": {},
   "outputs": [],
   "source": [
    "#of course, it won't run here but this was line plot code for formatting."
   ]
  },
  {
   "cell_type": "code",
   "execution_count": null,
   "metadata": {},
   "outputs": [],
   "source": [
    "#Economy Auto Group Index Stock Price Change\n",
    "minvalue = EconIndex.loc[EconIndex['Stock WtAvg'].idxmin()]  # Min price for Y-axis\n",
    "#print(minvalue)\n",
    "maxvalue = EconIndex.loc[EconIndex['Stock WtAvg'].idxmax()]  # Max price for Y-axis\n",
    "#print(maxvalue)\n",
    "\n",
    "# Line chart selection\n",
    "EconIndex.plot.line(x='Date', y='Stock WtAvg', legend = False, rot=60, title=\"Economy Auto Group Index Price Change\");\n",
    "\n",
    "# Sets the y limits: minvalue and max value plus a bit at the top and bottom of scale.\n",
    "plt.ylim(15, 60)\n",
    "\n",
    "# Provides labels\n",
    "plt.xlabel(\" \")\n",
    "plt.ylabel(\"Index Price (USD)\", fontsize=12)\n",
    "\n",
    "plt.tick_params(axis='both', direction='out', length=6, width=2, labelcolor = 'black',colors='teal')\n",
    "\n",
    "# Major grid lines\n",
    "plt.grid(b=True, which='major', color='lightblue', alpha=0.6, linestyle='dashdot', lw=1.5)\n",
    "\n",
    "# Minor grid lines\n",
    "plt.minorticks_on()\n",
    "plt.grid(b=True, which='minor', color='beige', alpha=0.8, ls='-', lw=1)\n",
    "\n",
    "# Save the figure as .png\n",
    "plt.savefig('Images/Economy AG Index Stock Price Change.png')\n",
    "\n",
    "plt.show(block=True)"
   ]
  }
 ],
 "metadata": {
  "kernelspec": {
   "display_name": "Python 3",
   "language": "python",
   "name": "python3"
  },
  "language_info": {
   "codemirror_mode": {
    "name": "ipython",
    "version": 3
   },
   "file_extension": ".py",
   "mimetype": "text/x-python",
   "name": "python",
   "nbconvert_exporter": "python",
   "pygments_lexer": "ipython3",
   "version": "3.8.3"
  }
 },
 "nbformat": 4,
 "nbformat_minor": 4
}
