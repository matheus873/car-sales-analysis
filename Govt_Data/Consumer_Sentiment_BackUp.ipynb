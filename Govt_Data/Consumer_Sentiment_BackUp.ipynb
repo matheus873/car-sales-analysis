{
 "cells": [
  {
   "cell_type": "markdown",
   "metadata": {},
   "source": [
    "# Customer Sentiment\n",
    "## Evolution of customer sentiment among the year\n"
   ]
  },
  {
   "cell_type": "code",
   "execution_count": null,
   "metadata": {},
   "outputs": [],
   "source": [
    "# Dependencies and Setup\n",
    "import matplotlib.pyplot as plt\n",
    "import pandas as pd\n",
    "import scipy.stats as st\n",
    "import numpy as np\n",
    "import matplotlib.patches as mpatches\n",
    "\n",
    "# Study data files\n",
    "customer = \"consumer_sentiment.csv\"\n",
    "\n",
    "# Read the file data\n",
    "customer_df = pd.read_csv(customer)\n",
    "customer_df"
   ]
  },
  {
   "cell_type": "code",
   "execution_count": null,
   "metadata": {},
   "outputs": [],
   "source": [
    "# Remove unnecessary columns from source dataframe\n",
    "customer_df = customer_df.drop(['Good Time<br>Prices are Low','Good Time<br>Prices will increase',\n",
    "                                'Good Time<br>Interest rates low','Good Time<br>Rising interest rates',\n",
    "                                'Good Time<br>Fuel Efficiency', 'Bad Time<br>Prices High', 'Bad Time<br>Interest rates high',\n",
    "                                \"Bad Time<br>Can't Afford\",'Bad Time<br>Gas Prices','Bad Time<br>Poor Selection','Relative: prices',\n",
    "                                'Relative: rates'],axis=1)\n",
    "customer_df"
   ]
  },
  {
   "cell_type": "code",
   "execution_count": null,
   "metadata": {},
   "outputs": [],
   "source": [
    "# Remove data beyond the end of the 3Q 2020 starting at 2019-01-01\n",
    "customer_df = customer_df[customer_df['Date'] >= '2019-01-01']\n",
    "customer_df = customer_df[customer_df['Date'] <= '2020-10-01']\n",
    "customer_df"
   ]
  },
  {
   "cell_type": "code",
   "execution_count": null,
   "metadata": {},
   "outputs": [],
   "source": [
    "#Sort values from 2019-01-01 to 2020-10-01\n",
    "customer_df = customer_df.sort_values('Date')\n",
    "customer_df"
   ]
  },
  {
   "cell_type": "code",
   "execution_count": null,
   "metadata": {},
   "outputs": [],
   "source": [
    "# Historical points as markers\n",
    "# Group by Date to create df for historical markers.\n",
    "CSI = customer_df.groupby(['Date']).sum()\n",
    "\n",
    "dates = [\"2020-03-31\",\"2020-05-31\"]\n",
    "def find_loc(CSI, dates):\n",
    "    marks = []\n",
    "    for date in dates:\n",
    "        marks.append(UEI.index.get_loc(date))\n",
    "    return marks"
   ]
  },
  {
   "cell_type": "code",
   "execution_count": null,
   "metadata": {},
   "outputs": [],
   "source": [
    "#Bad Time<br>Uncertain Future\n",
    "\n",
    "# Line chart selection\n",
    "customer_df.plot.line(x='Date', y='Bad Time<br>Uncertain Future', legend = False, rot=60, title=\"Uncertain Future\",\n",
    "                      markevery=find_loc(CSI, dates), marker='s', markerfacecolor='red')\n",
    "\n",
    "\n",
    "# Sets the y limits\n",
    "plt.ylim(0, 30)\n",
    "\n",
    "# Provides labels\n",
    "plt.xlabel(\"Date\", fontsize=12)\n",
    "plt.ylabel(\"Uncertain Future Feeling\", fontsize=12)\n",
    "\n",
    "plt.tick_params(axis='both', direction='out', length=6, width=2, labelcolor = 'black',colors='teal')\n",
    "\n",
    "# Major grid lines\n",
    "plt.grid(b=True, which='major', color='lightblue', alpha=0.6, linestyle='dashdot', lw=1.5)\n",
    "\n",
    "# Minor grid lines\n",
    "plt.minorticks_on()\n",
    "plt.grid(b=True, which='minor', color='beige', alpha=0.8, ls='-', lw=1)\n",
    "\n",
    "# Save the figure as .png\n",
    "#plt.savefig('Images/Interest Rates.png')\n",
    "\n",
    "plt.show(block=True)"
   ]
  },
  {
   "cell_type": "markdown",
   "metadata": {},
   "source": [
    "# Additional Comparation"
   ]
  },
  {
   "cell_type": "code",
   "execution_count": null,
   "metadata": {},
   "outputs": [],
   "source": [
    "#Compare the trend between types of interest rates\n",
    "fig = plt.figure()\n",
    "ax = fig.add_subplot(1, 1, 1)\n",
    "line1 = ax.plot(customer_df['Date'], customer_df[\"Good Time<br>Times good\"], color='tab:green',\n",
    "                markevery=find_loc(UEI, dates), marker='s', markerfacecolor='red')\n",
    "line2 = ax.plot(customer_df['Date'], customer_df['Bad Time<br>Uncertain Future'], color='tab:red',\n",
    "                markevery=find_loc(CSI, dates), marker='s', markerfacecolor='red')\n",
    "handles, labels = ax.get_legend_handles_labels()\n",
    "ax.legend(handles, labels)\n",
    "line1\n",
    "line2\n",
    "\n",
    "# Sets the y limits\n",
    "plt.ylim(0, 30)\n",
    "\n",
    "# Provides labels\n",
    "plt.title(\"Consumer Sentiment to buy a Car\")\n",
    "plt.xlabel(\"Date\", fontsize=12)\n",
    "plt.ylabel(\"Consumer Sentiment\", fontsize=12)\n",
    "\n",
    "red_patch = mpatches.Patch(color='tab:red', label='Uncertain Future')\n",
    "green_patch = mpatches.Patch(color='tab:green', label='Time is good')\n",
    "plt.legend(handles=[red_patch,green_patch])\n",
    "\n",
    "\n",
    "\n",
    "plt.tick_params(axis='both', direction='in', length=6, width=2, labelcolor = 'black',colors='teal')\n",
    "\n",
    "# Major grid lines\n",
    "plt.grid(b=True, which='major', color='lightblue', alpha=0.6, linestyle='dashdot', lw=1.5)\n",
    "\n",
    "# Minor grid lines\n",
    "plt.minorticks_on()\n",
    "plt.grid(b=True, which='minor', color='beige', alpha=0.8, ls='-', lw=1)\n",
    "plt.xticks(rotation=90)\n",
    "# Save the figure as .png\n",
    "#plt.savefig('Images/Interest Rates.png')\n",
    "\n",
    "#plt.legend(loc='best', ncol=2, mode=\"expand\", shadow=True, fancybox=True)\n",
    "plt.show(block=True)"
   ]
  },
  {
   "cell_type": "code",
   "execution_count": null,
   "metadata": {},
   "outputs": [],
   "source": [
    "# Correlation between two datased using pearson -r \n",
    "correlation = round(st.pearsonr(customer_df['Good Time<br>Times good'],customer_df['Bad Time<br>Uncertain Future'])[0],2)\n",
    "print(f\"The correlation is {correlation}\")"
   ]
  },
  {
   "cell_type": "code",
   "execution_count": null,
   "metadata": {},
   "outputs": [],
   "source": [
    "if correlation == 0:\n",
    "    print (f\"The correlation is exact\")\n",
    "elif correlation <= -0.8:\n",
    "    print(f'There is an inverse relation')\n",
    "elif correlation >= 0.8:\n",
    "    print(f'There is no correlation at all')\n",
    "else:\n",
    "    print(f'There is some correlation')"
   ]
  }
 ],
 "metadata": {
  "kernelspec": {
   "display_name": "Python 3",
   "language": "python",
   "name": "python3"
  },
  "language_info": {
   "codemirror_mode": {
    "name": "ipython",
    "version": 3
   },
   "file_extension": ".py",
   "mimetype": "text/x-python",
   "name": "python",
   "nbconvert_exporter": "python",
   "pygments_lexer": "ipython3",
   "version": "3.8.3"
  }
 },
 "nbformat": 4,
 "nbformat_minor": 4
}
