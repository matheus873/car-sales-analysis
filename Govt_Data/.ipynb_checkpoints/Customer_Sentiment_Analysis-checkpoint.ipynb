{
 "cells": [
  {
   "cell_type": "code",
   "execution_count": null,
   "metadata": {},
   "outputs": [],
   "source": []
  },
  {
   "cell_type": "code",
   "execution_count": null,
   "metadata": {},
   "outputs": [],
   "source": []
  },
  {
   "cell_type": "code",
   "execution_count": null,
   "metadata": {},
   "outputs": [],
   "source": []
  },
  {
   "cell_type": "code",
   "execution_count": null,
   "metadata": {},
   "outputs": [],
   "source": []
  },
  {
   "cell_type": "code",
   "execution_count": null,
   "metadata": {},
   "outputs": [],
   "source": [
    "# Historical points as markers\n",
    "# Group by Date to create df for historical markers.\n",
    "df1 = df.groupby(['Date']).sum()\n",
    "\n",
    "dates = [\"2020-01-08\",\"2019-09-25\"]   # Replace values when karen gives list\n",
    "def find_loc(df1, dates):\n",
    "    marks = []\n",
    "    for date in dates:\n",
    "        marks.append(df1.index.get_loc(date))\n",
    "    return marks"
   ]
  },
  {
   "cell_type": "code",
   "execution_count": null,
   "metadata": {},
   "outputs": [],
   "source": [
    "# Line plot with formatting\n",
    "minvalue = df.loc[df['Avg Price'].idxmin()]  # Min price for Y-axis\n",
    "#print(minvalue)\n",
    "maxvalue = df.loc[df['Avg Price'].idxmax()]  # Max price for Y-axis\n",
    "#print(maxvalue)\n",
    "\n",
    "# Line chart selection\n",
    "df.plot.line(x='Date', y='Avg Price', legend = False, rot=60, title=\"Title\",markevery=find_loc(SPI, dates), marker='s', markerfacecolor='red');\n",
    "\n",
    "# Sets the y limits\n",
    "plt.ylim(2000, 3800)\n",
    "\n",
    "# Provides labels\n",
    "plt.xlabel(\" \")\n",
    "plt.ylabel(\"S&P Index Price\", fontsize=12)\n",
    "\n",
    "# Format tick marks\n",
    "plt.tick_params(axis='both', direction='out', length=6, width=2, labelcolor = 'black',colors='teal')\n",
    "\n",
    "# Major grid lines\n",
    "plt.grid(b=True, which='major', color='lightblue', alpha=0.6, linestyle='dashdot', lw=1.5)\n",
    "\n",
    "# Minor grid lines\n",
    "plt.minorticks_on()\n",
    "plt.grid(b=True, which='minor', color='beige', alpha=0.8, ls='-', lw=1)\n",
    "\n",
    "# Save the figure as .png\n",
    "plt.savefig('Images/Title.png')\n",
    "\n",
    "plt.show(block=True)"
   ]
  }
 ],
 "metadata": {
  "kernelspec": {
   "display_name": "Python 3",
   "language": "python",
   "name": "python3"
  },
  "language_info": {
   "codemirror_mode": {
    "name": "ipython",
    "version": 3
   },
   "file_extension": ".py",
   "mimetype": "text/x-python",
   "name": "python",
   "nbconvert_exporter": "python",
   "pygments_lexer": "ipython3",
   "version": "3.8.3"
  }
 },
 "nbformat": 4,
 "nbformat_minor": 4
}
