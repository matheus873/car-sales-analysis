{
 "cells": [
  {
   "cell_type": "code",
   "execution_count": null,
   "metadata": {},
   "outputs": [],
   "source": [
    "# Dependencies and Setup\n",
    "import matplotlib.pyplot as plt\n",
    "import pandas as pd\n",
    "import scipy.stats as st\n",
    "import numpy as np\n",
    "\n",
    "# data files\n",
    "interest = \"Interest_rates.csv\"\n",
    "\n",
    "# Read the data \n",
    "interest_df = pd.read_csv(interest)\n",
    "interest_df"
   ]
  },
  {
   "cell_type": "code",
   "execution_count": null,
   "metadata": {},
   "outputs": [],
   "source": [
    "#Convert DATE to datetime\n",
    "interest_df['DATE'] = pd.to_datetime(interest_df['DATE'])\n",
    "interest_df"
   ]
  },
  {
   "cell_type": "code",
   "execution_count": null,
   "metadata": {},
   "outputs": [],
   "source": [
    "# Discard data for Q4 2020\n",
    "interest_df = interest_df[interest_df['DATE'] <= '10/1/2020']\n",
    "#Sort values by date \n",
    "#https://pandas.pydata.org/pandas-docs/stable/reference/api/pandas.DataFrame.sort_values.html\n",
    "interest_sorted = interest_df.sort_values('DATE')\n",
    "interest_sorted"
   ]
  },
  {
   "cell_type": "code",
   "execution_count": null,
   "metadata": {},
   "outputs": [],
   "source": [
    "# 52 wk BANK DISCOUNT\n",
    "\n",
    "\n",
    "# Line chart selection\n",
    "interest_sorted.plot.line(x='DATE', y='52 wk BANK DISCOUNT', legend = False, rot=60, title=\"Interest rates\",)\n",
    "#                          marker='s', markerfacecolor='red');\n",
    "\n",
    "# Sets the y limits\n",
    "plt.ylim(-0.5, 3)\n",
    "\n",
    "# Provides labels\n",
    "plt.xlabel(\"Date\", fontsize=12)\n",
    "plt.ylabel(\"Interest rates (%)\", fontsize=12)\n",
    "\n",
    "plt.tick_params(axis='both', direction='out', length=6, width=2, labelcolor = 'black',colors='teal')\n",
    "\n",
    "# Major grid lines\n",
    "plt.grid(b=True, which='major', color='lightblue', alpha=0.6, linestyle='dashdot', lw=1.5)\n",
    "\n",
    "# Minor grid lines\n",
    "plt.minorticks_on()\n",
    "plt.grid(b=True, which='minor', color='beige', alpha=0.8, ls='-', lw=1)\n",
    "\n",
    "# Save the figure as .png\n",
    "#plt.savefig('Images/Interest Rates.png')\n",
    "\n",
    "plt.show(block=True)"
   ]
  },
  {
   "cell_type": "code",
   "execution_count": null,
   "metadata": {},
   "outputs": [],
   "source": [
    "#Compare the trend between types of interest rates\n",
    "fig = plt.figure()\n",
    "ax = fig.add_subplot(1, 1, 1)\n",
    "ax.plot(interest_sorted['DATE'], interest_sorted[\"52 wk BANK DISCOUNT\"], color='tab:blue',)\n",
    "ax.plot(interest_sorted['DATE'], interest_sorted['26 wk BANK DISCOUNT'], color='tab:orange')\n",
    "ax.plot(interest_sorted['DATE'], interest_sorted[\"13 wk BANK DISCOUNT\"], color='tab:red')\n",
    "ax.plot(interest_sorted['DATE'], interest_sorted['8 wk BANK DISCOUNT'], color='tab:green')\n",
    "ax.plot(interest_sorted['DATE'], interest_sorted['4wk BANK DISCOUNT'], color='tab:blue')\n",
    "# Provides labels\n",
    "plt.xlabel(\"Date\", fontsize=12)\n",
    "plt.ylabel(\"Interest rates (%)\", fontsize=12)\n",
    "\n",
    "plt.tick_params(axis='both', direction='in', length=6, width=2, labelcolor = 'black',colors='teal')\n",
    "\n",
    "# Major grid lines\n",
    "plt.grid(b=True, which='major', color='lightblue', alpha=0.6, linestyle='dashdot', lw=1.5)\n",
    "\n",
    "# Minor grid lines\n",
    "plt.minorticks_on()\n",
    "plt.grid(b=True, which='minor', color='beige', alpha=0.8, ls='-', lw=1)\n",
    "plt.xticks(rotation=90)\n",
    "# Save the figure as .png\n",
    "#plt.savefig('Images/Interest Rates.png')\n",
    "\n",
    "plt.show(block=True)"
   ]
  }
 ],
 "metadata": {
  "kernelspec": {
   "display_name": "Python 3",
   "language": "python",
   "name": "python3"
  },
  "language_info": {
   "codemirror_mode": {
    "name": "ipython",
    "version": 3
   },
   "file_extension": ".py",
   "mimetype": "text/x-python",
   "name": "python",
   "nbconvert_exporter": "python",
   "pygments_lexer": "ipython3",
   "version": "3.8.3"
  }
 },
 "nbformat": 4,
 "nbformat_minor": 4
}
